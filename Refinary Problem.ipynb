{
 "cells": [
  {
   "cell_type": "code",
   "execution_count": 177,
   "metadata": {},
   "outputs": [],
   "source": [
    "import pandas_ods_reader as pd\n",
    "import pandas as p\n",
    "import pulp\n",
    "from pulp import *\n",
    "import math\n",
    "import numpy"
   ]
  },
  {
   "cell_type": "code",
   "execution_count": 178,
   "metadata": {},
   "outputs": [],
   "source": [
    "# Defining Sense of Model\n",
    "model = LpProblem(name = \"Refinary_Problem\" , sense = LpMaximize)"
   ]
  },
  {
   "cell_type": "code",
   "execution_count": 179,
   "metadata": {},
   "outputs": [
    {
     "data": {
      "text/plain": [
       "{0: y_0, 1: y_1, 2: y_2, 3: y_3, 4: y_4}"
      ]
     },
     "execution_count": 179,
     "metadata": {},
     "output_type": "execute_result"
    }
   ],
   "source": [
    "Products = ['PP','RP','JO','FO','LO']\n",
    "Profit = [7,6,4,3.5,1.5]\n",
    "Availability = [20000,30000]\n",
    "# Variables\n",
    "y_vars  = {(i): LpVariable(cat=LpInteger, lowBound=0, name=\"y_{0}\".format(i)) for i in range(len(Products))}\n",
    "y_vars"
   ]
  },
  {
   "cell_type": "code",
   "execution_count": 180,
   "metadata": {},
   "outputs": [
    {
     "data": {
      "text/plain": [
       "{0: x_0, 1: x_1}"
      ]
     },
     "execution_count": 180,
     "metadata": {},
     "output_type": "execute_result"
    }
   ],
   "source": [
    "Crude = ['C1','C2']\n",
    "x_vars  = {(i): LpVariable(cat=LpInteger, lowBound=0, name=\"x_{0}\".format(i)) for i in range(len(Crude))}\n",
    "x_vars"
   ]
  },
  {
   "cell_type": "code",
   "execution_count": 181,
   "metadata": {},
   "outputs": [],
   "source": [
    "NL = LpVariable(\"NL\", lowBound = 0, upBound = None, cat='Continuous')\n",
    "NM = LpVariable(\"NM\", lowBound = 0, upBound = None, cat='Continuous')\n",
    "NH = LpVariable(\"NH\", lowBound = 0, upBound = None, cat='Continuous')\n",
    "OL = LpVariable(\"OL\", lowBound = 0, upBound = None, cat='Continuous')\n",
    "OH = LpVariable(\"OH\", lowBound = 0, upBound = None, cat='Continuous')\n",
    "R = LpVariable(\"R\", lowBound = 0, upBound = None, cat='Continuous')\n",
    "\n",
    "RNL = LpVariable(\"RNL\", lowBound = 0, upBound = None, cat='Continuous')\n",
    "RNM = LpVariable(\"RNM\", lowBound = 0, upBound = None, cat='Continuous')\n",
    "RNH = LpVariable(\"RNH\", lowBound = 0, upBound = None, cat='Continuous')\n",
    "RG = LpVariable(\"RG\", lowBound = 0, upBound = None, cat='Continuous')\n",
    "CO = LpVariable(\"CO\", lowBound = 0, upBound = None, cat='Continuous')\n",
    "CG = LpVariable(\"CG\", lowBound = 0, upBound = None, cat='Continuous')\n",
    "\n",
    "COL = LpVariable(\"COL\", lowBound = 0, upBound = None, cat='Continuous')\n",
    "COH = LpVariable(\"COH\", lowBound = 0, upBound = None, cat='Continuous')\n",
    "\n",
    "HNRP = LpVariable(\"HNRP\", lowBound = 0, upBound = None, cat='Continuous')\n",
    "MNRP = LpVariable(\"MNRP\", lowBound = 0, upBound = None, cat='Continuous')\n",
    "LNRP = LpVariable(\"LNRP\", lowBound = 0, upBound = None, cat='Continuous')\n",
    "RGRP = LpVariable(\"RGRP\", lowBound = 0, upBound = None, cat='Continuous')\n",
    "CGRP = LpVariable(\"CGRP\", lowBound = 0, upBound = None, cat='Continuous')\n",
    "\n",
    "HNPP = LpVariable(\"HNPP\", lowBound = 0, upBound = None, cat='Continuous')\n",
    "MNPP = LpVariable(\"MNPP\", lowBound = 0, upBound = None, cat='Continuous')\n",
    "LNPP = LpVariable(\"LNPP\", lowBound = 0, upBound = None, cat='Continuous')\n",
    "RGPP = LpVariable(\"RGPP\", lowBound = 0, upBound = None, cat='Continuous')\n",
    "CGPP = LpVariable(\"CGPP\", lowBound = 0, upBound = None, cat='Continuous')\n",
    "\n",
    "OLJ = LpVariable(\"OLJ\", lowBound = 0, upBound = None, cat='Continuous')\n",
    "OHJ = LpVariable(\"OHJ\", lowBound = 0, upBound = None, cat='Continuous')\n",
    "COJ = LpVariable(\"COJ\", lowBound = 0, upBound = None, cat='Continuous')\n",
    "RJ = LpVariable(\"RJ\", lowBound = 0, upBound = None, cat='Continuous')\n",
    "\n",
    "OLFO = LpVariable(\"OLFO\", lowBound = 0, upBound = None, cat='Continuous')\n",
    "OHFO = LpVariable(\"OHFO\", lowBound = 0, upBound = None, cat='Continuous')\n",
    "COFO = LpVariable(\"COFO\", lowBound = 0, upBound = None, cat='Continuous')\n",
    "RFO = LpVariable(\"RFO\", lowBound = 0, upBound = None, cat='Continuous')\n",
    "\n",
    "RLO = LpVariable(\"RLO\", lowBound = 0, upBound = None, cat='Continuous')"
   ]
  },
  {
   "cell_type": "code",
   "execution_count": 182,
   "metadata": {},
   "outputs": [],
   "source": [
    "# Objective Fuction\n",
    "model += lpSum(Profit[i]*y_vars[i] for i in range(len(Products)))"
   ]
  },
  {
   "cell_type": "code",
   "execution_count": 183,
   "metadata": {},
   "outputs": [],
   "source": [
    "# Constraints\n",
    "for i in range(len(Crude)):\n",
    "               model += x_vars[i] <= Availability[i]\n",
    "               \n",
    "            \n",
    "model += lpSum(x_vars[i] for i in range(len(Crude)))<= 45000\n",
    "\n",
    "model += RNL + RNM + RNH <= 10000\n",
    "\n",
    "model += COL + COH <= 8000\n",
    "\n",
    "\n",
    "model += y_vars[4] <= 1000\n",
    "\n",
    "model += y_vars[4] >= 500\n",
    "\n",
    "model += y_vars[0] >= 0.4*y_vars[1]\n",
    "         \n",
    "\n",
    "model += x_vars[0]*0.1 + x_vars[1]*0.15 == NL\n",
    "\n",
    "model += x_vars[0]*0.2 + x_vars[1]*0.25 == NM\n",
    "\n",
    "model += x_vars[0]*0.2 + x_vars[1]*0.18 == NH\n",
    "\n",
    "model += x_vars[0]*0.12 + x_vars[1]*0.08 == OL\n",
    "\n",
    "model += x_vars[0]*0.2 + x_vars[1]*0.19 == OH\n",
    "\n",
    "model += x_vars[0]*0.13 + x_vars[1]*0.12 == R\n",
    "\n",
    "model += RNL*0.6 + RNM*0.52 + RNH*0.45== RG\n",
    "\n",
    "model += COL*0.68 + COH*0.75 == CO\n",
    "\n",
    "model += COL*0.28 + COH*0.2 == CG\n",
    "\n",
    "\n",
    "\n",
    "model += 70*HNRP + 80*MNRP + 90*LNRP + 115*RGRP + 105*CGRP >= 84*y_vars[1]\n",
    "\n",
    "model += 70*HNPP + 80*MNPP + 90*LNPP + 115*RGPP + 105*CGPP >= 94*y_vars[0]\n",
    "\n",
    "model += 1*OLJ + 0.6*OHJ + 1.5*COJ + 0.05*RJ <= 1*y_vars[2]\n",
    "\n",
    "model += y_vars[3]*(10/18) == OLFO\n",
    "\n",
    "model += y_vars[3]*(4/18) == COFO\n",
    "\n",
    "model += y_vars[3]*(3/18) == OHFO\n",
    "\n",
    "model += y_vars[3]*(1/18) == RFO\n",
    "\n",
    "model += NH == HNRP + HNPP + RNH\n",
    "\n",
    "model += NM == MNRP + MNPP + RNM\n",
    "\n",
    "model += NL == LNRP + LNPP + RNL\n",
    "\n",
    "model += OL == OLJ + OLFO + COL\n",
    "\n",
    "model += OH == OHJ + OHFO + COH\n",
    "\n",
    "model += R == RJ + RFO + RLO\n",
    "\n",
    "model += RG == RGRP + RGPP\n",
    "\n",
    "model += CO == COJ + COFO\n",
    "\n",
    "model += CG == CGRP + CGPP\n",
    "\n",
    "model += HNRP + MNRP + LNRP + RGRP + CGRP == y_vars[1]\n",
    "\n",
    "model += HNPP + MNPP + LNPP + RGPP + CGPP == y_vars[0]\n",
    "\n",
    "model += OLJ + OHJ + COJ + RJ == y_vars[2]\n",
    "\n",
    "model += y_vars[4] == RLO*0.5\n",
    "\n",
    "model += y_vars[3] == OLFO + COFO + OHFO + RFO"
   ]
  },
  {
   "cell_type": "code",
   "execution_count": 184,
   "metadata": {},
   "outputs": [
    {
     "name": "stdout",
     "output_type": "stream",
     "text": [
      "status: 1, Optimal\n"
     ]
    }
   ],
   "source": [
    "# Solution \n",
    "model.solve()\n",
    "print(f\"status: {model.status}, {LpStatus[model.status]}\")"
   ]
  },
  {
   "cell_type": "code",
   "execution_count": 185,
   "metadata": {},
   "outputs": [
    {
     "name": "stdout",
     "output_type": "stream",
     "text": [
      "objective: 211364.0\n"
     ]
    }
   ],
   "source": [
    "# Objective Value\n",
    "print(f\"objective: {model.objective.value()}\")"
   ]
  },
  {
   "cell_type": "code",
   "execution_count": 186,
   "metadata": {},
   "outputs": [
    {
     "name": "stdout",
     "output_type": "stream",
     "text": [
      "CG: 1936.0\n",
      "CGPP: 0.0\n",
      "CGRP: 1936.0\n",
      "CO: 5706.0\n",
      "COFO: 0.0\n",
      "COH: 3800.0\n",
      "COJ: 5706.0\n",
      "COL: 4200.0\n",
      "HNPP: 0.0\n",
      "HNRP: 2992.7273\n",
      "LNPP: 5727.12\n",
      "LNRP: 272.88\n",
      "MNPP: 0.0\n",
      "MNRP: 10500.0\n",
      "NH: 8400.0\n",
      "NL: 6000.0\n",
      "NM: 10500.0\n",
      "OH: 8700.0\n",
      "OHFO: 0.0\n",
      "OHJ: 4900.0\n",
      "OL: 4200.0\n",
      "OLFO: 0.0\n",
      "OLJ: 0.0\n",
      "R: 5550.0\n",
      "RFO: 0.0\n",
      "RG: 2433.2727\n",
      "RGPP: 1090.88\n",
      "RGRP: 1342.3927\n",
      "RJ: 4550.0\n",
      "RLO: 1000.0\n",
      "RNH: 5407.2727\n",
      "RNL: 0.0\n",
      "RNM: 0.0\n",
      "x_0: 15000.0\n",
      "x_1: 30000.0\n",
      "y_0: 6818.0\n",
      "y_1: 17044.0\n",
      "y_2: 15156.0\n",
      "y_3: 0.0\n",
      "y_4: 500.0\n"
     ]
    }
   ],
   "source": [
    "# PRODUCTS of each type\n",
    "for v in model.variables():\n",
    "    print(f\"{v.name}: {v.value()}\")"
   ]
  },
  {
   "cell_type": "code",
   "execution_count": null,
   "metadata": {},
   "outputs": [],
   "source": []
  },
  {
   "cell_type": "code",
   "execution_count": null,
   "metadata": {},
   "outputs": [],
   "source": []
  }
 ],
 "metadata": {
  "kernelspec": {
   "display_name": "Python 3",
   "language": "python",
   "name": "python3"
  },
  "language_info": {
   "codemirror_mode": {
    "name": "ipython",
    "version": 3
   },
   "file_extension": ".py",
   "mimetype": "text/x-python",
   "name": "python",
   "nbconvert_exporter": "python",
   "pygments_lexer": "ipython3",
   "version": "3.7.3"
  }
 },
 "nbformat": 4,
 "nbformat_minor": 2
}
